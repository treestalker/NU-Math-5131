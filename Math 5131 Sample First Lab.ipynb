{
 "cells": [
  {
   "cell_type": "code",
   "execution_count": 41,
   "metadata": {},
   "outputs": [
    {
     "data": {
      "text/html": [
       "<style>\n",
       "div.TOC {    \n",
       "    background-color: #fcfcfc;\n",
       "    border-color: #dFdFdF;\n",
       "    border-left: 5px solid #dFdFdF;\n",
       "    padding: 0.5em;\n",
       "    }\n",
       "div.TOC a {\n",
       "  color: grey;\n",
       "  text-decoration: none;\n",
       "  font-weight: 500;\n",
       "}\n",
       ".ToTOC a {\n",
       "    color:#AAAAAA;\n",
       "    font-size:18px;\n",
       "    text-decoration: none;\n",
       "}\n",
       " </style>"
      ],
      "text/plain": [
       "<IPython.core.display.HTML object>"
      ]
     },
     "metadata": {},
     "output_type": "display_data"
    }
   ],
   "source": [
    "%%html\n",
    "<style>\n",
    "div.TOC {    \n",
    "    background-color: #fcfcfc;\n",
    "    border-color: #dFdFdF;\n",
    "    border-left: 5px solid #dFdFdF;\n",
    "    padding: 0.5em;\n",
    "    }\n",
    "div.TOC a {\n",
    "  color: grey;\n",
    "  text-decoration: none;\n",
    "  font-weight: 500;\n",
    "}\n",
    ".ToTOC a {\n",
    "    color:#AAAAAA;\n",
    "    font-size:18px;\n",
    "    text-decoration: none;\n",
    "}\n",
    " </style>"
   ]
  },
  {
   "cell_type": "markdown",
   "metadata": {},
   "source": [
    "# Solving ODE's numerically with scipy toolkit <a name=\"TableOfContents\"></a> \n",
    "\n",
    "### Table of contents\n",
    "<div class=\"TOC\">\n",
    "<ol>\n",
    "    <li>[An example using the exponential decay equation](#introduction)</li>\n",
    "    <ul style=\"list-style-type:none;margin-top:0\">\n",
    "        <li>[Exploring the effect of parameters](#parameters)</li>\n",
    "        <li>[Applications](#applciations1)</li>\n",
    "        <ul style=\"list-style-type:none;margin-top:0\">\n",
    "            <li>[1.1 First Order Linear ODEs](#FOLODE)</li>\n",
    "            <li>[1.2 Beyond Smooth Equations](#Nonsmooth)</li>\n",
    "            <li>[1.3 Exploring First Order Quadratic Equations](#FOQODE)</li>\n",
    "        </ul>\n",
    "    </ul>\n",
    "    <li>[Systems of differential equations](#systemsofdiffeqs)</li>\n",
    "    <ul style=\"list-style-type:none;margin-top:0\">\n",
    "        <li>[](#parameters)</li>\n",
    "        <li>[Applications](#applciations1)</li>\n",
    "        <ul style=\"list-style-type:none;margin-top:0\">\n",
    "            <li>[2.1 Coupled Linear Systems](#CLS)</li>\n",
    "            <li>[2.2 Coupled Non-smooth Systems](#CNSS)</li>\n",
    "            <li>[2.3 The Pendulum Equation (Second Order Differential Equations) ](#Pend)</li>\n",
    "        </ul>\n",
    "    </ul>\n",
    "</ol>\n",
    "</div>"
   ]
  },
  {
   "cell_type": "markdown",
   "metadata": {},
   "source": [
    "## 1. An example using the exponential decay equation <a name=\"introduction\"></a><span class = \"ToTOC\"><a href=\"#TableOfContents\" style=\"text-decoration:none\">&#x2BA5;</a></span>\n",
    "\n",
    "We are going to use the scipy library to solve ODE's and systems of ODE's. The scipy library uses a powerful suite of ODE solves and estimators to tackle linear, nonlinear, smooth and non-smooth ODE's weather or not a closed form solution exists. To work with ODE's in Python we need to import three libraries: \n",
    "\n",
    "* `numpy` gives us tools to deal with matrices\n",
    "* `matplotlib` give us some functions to produce mathematical plots. This libraries syntax is modeled on MATLAB's plotting syntax\n",
    "* `odeint` from the library `scipy.integrate` is our ODE solver. In general, `scipy` has a ton of great scientific computing functionality that is worth exploring on your own time.\n",
    "\n",
    "We closely follow the exposition here: https://apmonitor.com/pdc/index.php/Main/SolveDifferentialEquations"
   ]
  },
  {
   "cell_type": "code",
   "execution_count": null,
   "metadata": {},
   "outputs": [],
   "source": [
    "from scipy.integrate import odeint\n",
    "import matplotlib.pyplot as plt\n",
    "import numpy as np"
   ]
  },
  {
   "cell_type": "markdown",
   "metadata": {},
   "source": [
    "We will start by using scipy to solve the differential equation\n",
    "\n",
    "\\begin{align}\\label{diffeq1}\n",
    "\\frac{dy}{dt} = -ky(t),\n",
    "\\end{align}\n",
    "\n",
    "for $k=0.3$ using numerical methods.\n",
    "\n",
    "To use `odeint` to solve this equation, we write right hand side as a function of $t$ and $y$ that we will call `model`:\n",
    "\n",
    "\\begin{align}\n",
    "\\frac{dy}{dt} = \\mathtt{model(y,t,k)},\n",
    "\\end{align}\n",
    "\n",
    "The first step is to define the function `model` that takes `y`, `t` and `k` as inputs and returns $\\frac{dy}{dt}$:"
   ]
  },
  {
   "cell_type": "code",
   "execution_count": null,
   "metadata": {},
   "outputs": [],
   "source": [
    "## Defining out model\n",
    "\n",
    "def model(y,t,k):\n",
    "    dydt = -k*y\n",
    "    return dydt"
   ]
  },
  {
   "cell_type": "code",
   "execution_count": null,
   "metadata": {},
   "outputs": [],
   "source": [
    "model(1,2,3)  # Try running this line of code for different input values of y, t and k"
   ]
  },
  {
   "cell_type": "markdown",
   "metadata": {},
   "source": [
    "Next, we set our constants and our initial value for $y(0) = y_0$:"
   ]
  },
  {
   "cell_type": "code",
   "execution_count": null,
   "metadata": {},
   "outputs": [],
   "source": [
    "## Setting the constants\n",
    "\n",
    "k = 0.3   # The growth/decay constant\n",
    "y0 = 5.   # The initial value of y"
   ]
  },
  {
   "cell_type": "markdown",
   "metadata": {},
   "source": [
    "Finally, we define the domain of `t` by creating an array of time values spaced evenly apart. The function `linspace(t0,t1)` returns a list of 50 numbers spaced evenly between `t0` and `t1`. The number of points returned can be optionally chosen by specifying the varabile `num` when calling the function. For example, `linspace(t0,t1,num=30)` returns an array of 30 evenly spaced points starting with `t0` and ending with `t1`.\n",
    "\n",
    "Note: If you look at the [help page](https://docs.scipy.org/doc/numpy-1.14.0/reference/generated/numpy.linspace.html) for `np.linspace`, you'll find the notation `linspace(t0,t1,num=50,...)`. In python documentation, `num=50` means that if the `num` variable is not specified the function automatically sets `num` to 50. Since `t0` and `t1` are not assigned default values they *must* be assigned by the user. "
   ]
  },
  {
   "cell_type": "code",
   "execution_count": null,
   "metadata": {},
   "outputs": [],
   "source": [
    "## Defining the domain of t\n",
    "\n",
    "t = np.linspace(0,20)\n",
    "print(t)"
   ]
  },
  {
   "cell_type": "markdown",
   "metadata": {},
   "source": [
    "We will now actually solve the differential equation. \n",
    "\n",
    "The scipy [ODE solver integrate](https://docs.scipy.org/doc/scipy-0.18.1/reference/generated/scipy.integrate.odeint.html) `odeint(func,y0,t)` takes a function, an initial value, and a vector of time points as inputs. It then outputs a numerical solution to the differential equation\n",
    "\n",
    "`dy/dt = func(y, t0, ...)`\n",
    "\n",
    "We also need to specify the other parameters in our function, in this case the constant $k$. This is done by setting `args=(k1,k2,k3,...,)` where $k_i$ are the parameters of the differential equation. The trailing `,` here specifies `(k1,k2,k3,...,)` as a *tuple*, or unchangeable, ordered list. The model function should have all of its inputs specified except `y` and `t0`. \n",
    "\n",
    "As we can see in the output, the function `odeint` returns a column vector with one $y$ value for each $t$ value in `t`. "
   ]
  },
  {
   "cell_type": "code",
   "execution_count": null,
   "metadata": {
    "scrolled": true
   },
   "outputs": [],
   "source": [
    "## Solving the diffeq dy/dt = model(y,t) for initial y value y0\n",
    "\n",
    "y_sol = odeint(model,y0,t, args=(k,))\n",
    "print(y_sol)"
   ]
  },
  {
   "cell_type": "markdown",
   "metadata": {},
   "source": [
    "\n",
    "Note: You can find out the dimension of a vector by getting its `.shape` property. Try adding `print(sol.shape)` to the cell below.\n",
    "\n",
    "Note: You can click to the left of the output cell to minimize it. "
   ]
  },
  {
   "cell_type": "markdown",
   "metadata": {},
   "source": [
    "Lets visualize the solution to this differential equation using `matplotlib`. The command `plt.plot(t,y_sol)` will display a plot with $t$ on the horizontal axis and our predicted $y$ on the vertical axis."
   ]
  },
  {
   "cell_type": "code",
   "execution_count": null,
   "metadata": {},
   "outputs": [],
   "source": [
    "## Plotting the resulting solution\n",
    "\n",
    "plt.plot(t,y_sol)"
   ]
  },
  {
   "cell_type": "markdown",
   "metadata": {},
   "source": [
    "## Exploring the effect of parameters <a name=\"parameters\"></a><span class = \"ToTOC\"><a href=\"#TableOfContents\" style=\"text-decoration:none\">&#x2BA5;</a></span>\n",
    "\n",
    "Lets compare the solutions for $k = .3$, $k=.7$ and $k=1.1$. Numerically solving the decay equation for different $k$ values using `odeint` is as simple as rerunning the code we wrote above using different parameters but the same model."
   ]
  },
  {
   "cell_type": "code",
   "execution_count": null,
   "metadata": {},
   "outputs": [],
   "source": [
    "k1 = .3\n",
    "k2 = .7\n",
    "k3 = 1.1\n",
    "\n",
    "y1 = odeint(model,y0,t,args=(k1,))\n",
    "y2 = odeint(model,y0,t,args=(k2,))\n",
    "y3 = odeint(model,y0,t,args=(k3,))"
   ]
  },
  {
   "cell_type": "markdown",
   "metadata": {},
   "source": [
    "To plot them all on the same axis just requires the execution of several plot commands in the same cell."
   ]
  },
  {
   "cell_type": "code",
   "execution_count": null,
   "metadata": {},
   "outputs": [],
   "source": [
    "plt.plot(t,y1)\n",
    "plt.plot(t,y2)\n",
    "plt.plot(t,y3)"
   ]
  },
  {
   "cell_type": "markdown",
   "metadata": {},
   "source": [
    "The `plt.plot` function has a lot of options. For example, for each line we can specify the axis labels, the line width, style and color, and the inclusion of a legend. "
   ]
  },
  {
   "cell_type": "code",
   "execution_count": null,
   "metadata": {},
   "outputs": [],
   "source": [
    "plt.plot(t,y1,'r-',linewidth=2,label='k=0.1')\n",
    "plt.plot(t,y2,'b--',linewidth=4,label='k=0.2')\n",
    "plt.plot(t,y3,'g:',linewidth=1,label='k=0.5')\n",
    "\n",
    "plt.xlabel('time')\n",
    "plt.ylabel('y(t)')\n",
    "plt.legend()\n",
    "plt.show()"
   ]
  },
  {
   "cell_type": "markdown",
   "metadata": {},
   "source": [
    "## Applications: <a name=\"applciations1\"></a>\n",
    "\n",
    "### 1.1 First Order Linear ODEs <a name=\"FOLODE\"></a><span class = \"ToTOC\"><a href=\"#TableOfContents\" style=\"text-decoration:none\">&#x2BA5;</a></span>\n",
    "\n",
    "Use `odeint` to solve\n",
    "\n",
    "$$\n",
    "\\frac{dy}{dt} = -y(t) + k\\,,\\hspace{5em} y(0) = 0\\,,\n",
    "$$\n",
    "\n",
    "for $t\\in [0,5]$. Plot the results for $k = 1,2,3$. You will need to define a new model function `dydt = model2(y,t,k)`, and specify the domain of `t`. It is worth giving the new model function a name like `model2` to make it distinct from the exponential decay model. "
   ]
  },
  {
   "cell_type": "code",
   "execution_count": null,
   "metadata": {},
   "outputs": [],
   "source": []
  },
  {
   "cell_type": "code",
   "execution_count": null,
   "metadata": {},
   "outputs": [],
   "source": []
  },
  {
   "cell_type": "markdown",
   "metadata": {},
   "source": [
    "### 1.2 Beyond Smooth Equations <a name=\"Nonsmooth\"></a><span class = \"ToTOC\"><a href=\"#TableOfContents\" style=\"text-decoration:none\">&#x2BA5;</a></span>\n",
    "\n",
    "Many interesting physical systems *do not* smoothly relate their values with their derivatives. While this may be is difficult to deal with analytically, it is much easier numerically. Let $u(t)$ be the step function\n",
    "\n",
    "$$\n",
    "u(t) = \\begin{cases}\n",
    "0& \\text{for }t<10\n",
    "\\\\\n",
    "2& \\text{for }t\\geq 10\n",
    "\\end{cases}\\,.\n",
    "$$\n",
    "\n",
    "Solve the differential equation \n",
    "\n",
    "$$\n",
    "5\\frac{dy}{dt} = -y(t) + u(t)\\,,\\hspace{5em} y(0) = 1\\,,\n",
    "$$\n",
    "\n",
    "for $t\\in [0,20]$ and plot the result. What happens when you change the coefficient of $\\frac{dy}{dt}$?\n",
    "\n",
    "Hint: You will need to use an if/else statement in your definition of the function. The syntax is\n",
    "\n",
    "```\n",
    "if SOME_TEST :\n",
    "    DO_THIS\n",
    "    THEN_THIS\n",
    "    ...\n",
    "else:\n",
    "    DO_THIS_OTHER_THING\n",
    "    AND_THIS\n",
    "    ...\n",
    "```\n",
    "\n",
    "In this case, `SOME_TEST` is any logical statement that can evaluate to true or false, like `t == 4`, `y>7` or `y<t`."
   ]
  },
  {
   "cell_type": "code",
   "execution_count": null,
   "metadata": {},
   "outputs": [],
   "source": []
  },
  {
   "cell_type": "code",
   "execution_count": null,
   "metadata": {},
   "outputs": [],
   "source": []
  },
  {
   "cell_type": "markdown",
   "metadata": {},
   "source": [
    "### 1.3 Exploring First Order Quadratic Equations <a name=\"FOQODE\"></a> <span class = \"ToTOC\"><a href=\"#TableOfContents\" style=\"text-decoration:none\">&#x2BA5;</a></span>\n",
    "\n",
    "Consider the family of differential equations given by \n",
    "\n",
    "$$\n",
    "\\frac{dy}{dt} = -ay^2 + byt + ct^2\\,,\n",
    "$$\n",
    "\n",
    "for positive constants $a$, $b$ and $c$. Solve this equation numerically for $y(0) = 1$ and $a = -b = c = 1$. How does the solution change as we change $a$, $b$ and $c$?"
   ]
  },
  {
   "cell_type": "code",
   "execution_count": null,
   "metadata": {},
   "outputs": [],
   "source": []
  },
  {
   "cell_type": "code",
   "execution_count": null,
   "metadata": {},
   "outputs": [],
   "source": []
  },
  {
   "cell_type": "markdown",
   "metadata": {},
   "source": [
    "## 2. Systems of differential equations <a name=\"systemsofdiffeqs\"></a><span class = \"ToTOC\"><a href=\"#TableOfContents\" style=\"text-decoration:none\">&#x2BA5;</a></span>\n",
    "\n",
    "The `odeint` solver can also handle coupled systems of differential equations, the model function just needs to output a *vector* $\\left[\\frac{dx}{dt},\\frac{dy}{dt}\\right]$ instead of a single *value* like $\\frac{dy}{dt}$. For example, consider the coupled equations\n",
    "\n",
    "\\begin{align}\n",
    "\\frac{dx}{dt} &= y(t)\\,,\\hspace{4em} &x(0)&=0\\,,\n",
    "\\\\\n",
    "\\frac{dy}{dt} &= -x(t)\\,, &y(0)&=1\\,.\n",
    "\\end{align}\n",
    "\n",
    "We can solve this system of equations using `odeint` by promoting `y` to a vector `Y = [x,y]`, and making our function `model(Y,t)` a function of `Y` that returns a vector `dYdt = [dxdt,dydt]`."
   ]
  },
  {
   "cell_type": "code",
   "execution_count": 1,
   "metadata": {},
   "outputs": [],
   "source": [
    "def modelV(Y,t):\n",
    "    x,y = Y\n",
    "    dYdt = [y,-x]\n",
    "    return dYdt"
   ]
  },
  {
   "cell_type": "markdown",
   "metadata": {},
   "source": [
    "Take a second and run this function on different inputs."
   ]
  },
  {
   "cell_type": "code",
   "execution_count": null,
   "metadata": {},
   "outputs": [],
   "source": [
    "print(modelV([1,2],0))"
   ]
  },
  {
   "cell_type": "markdown",
   "metadata": {},
   "source": [
    "Now, to fit we just set the starting values for `x` and `y` by specifying `Y0 = [0,1]` and run the estimator."
   ]
  },
  {
   "cell_type": "code",
   "execution_count": null,
   "metadata": {
    "scrolled": true
   },
   "outputs": [],
   "source": [
    "Y0 = [0,1]\n",
    "t = np.linspace(0,10,100)\n",
    "\n",
    "sol = odeint(modelV,Y0,t)\n",
    "\n",
    "print(sol)"
   ]
  },
  {
   "cell_type": "markdown",
   "metadata": {},
   "source": [
    "The first column of `sol` is the list of `x` values associated to each `t` value and the second column is the list of `y` values. We can plot these on the graph"
   ]
  },
  {
   "cell_type": "code",
   "execution_count": null,
   "metadata": {},
   "outputs": [],
   "source": [
    "## \n",
    "plt.plot(t,sol[:,0])\n",
    "plt.plot(t,sol[:,1])"
   ]
  },
  {
   "cell_type": "markdown",
   "metadata": {},
   "source": [
    "*or* think about them as tracing out a path $(x(t), y(t)) \\in \\mathbb{R}^2$ by plotting them against each other. "
   ]
  },
  {
   "cell_type": "code",
   "execution_count": null,
   "metadata": {},
   "outputs": [],
   "source": [
    "plt.plot(sol[:,0],sol[:,1])"
   ]
  },
  {
   "cell_type": "markdown",
   "metadata": {},
   "source": [
    "## Applications: <a name=\"apps2\"></a>\n",
    "\n",
    "### 2.1 Coupled Linear Systems <a name=\"CLS\"></a><span class = \"ToTOC\"><a href=\"#TableOfContents\" style=\"text-decoration:none\">&#x2BA5;</a></span>\n",
    "\n",
    "Use a model with vector input `Y` and output `[dxdt,dydt]` to solve the initial value problem \n",
    "\n",
    "\\begin{align}\n",
    "\\frac{dx}{dt} &= x(t) + 5y(t)\\,,\\hspace{4em} &x(0)&=1\\,,\n",
    "\\\\\n",
    "\\frac{dy}{dt} &= -2x(t)\\,, &y(0)&=0\\,,\n",
    "\\end{align}\n",
    "\n",
    "for $t\\in [0,10]$."
   ]
  },
  {
   "cell_type": "code",
   "execution_count": null,
   "metadata": {},
   "outputs": [],
   "source": []
  },
  {
   "cell_type": "code",
   "execution_count": null,
   "metadata": {},
   "outputs": [],
   "source": []
  },
  {
   "cell_type": "markdown",
   "metadata": {},
   "source": [
    "### 2.2 Coupled Non-smooth Systems <a name=\"CNSS\"></a><span class = \"ToTOC\"><a href=\"#TableOfContents\" style=\"text-decoration:none\">&#x2BA5;</a></span>\n",
    "\n",
    "As before, let $u(t)$ be the step function $u(t) = \\begin{cases}0& \\text{for }t<10\n",
    "\\\\\n",
    "2& \\text{for }t\\geq 10\n",
    "\\end{cases}\\,.\n",
    "$ Solve the initial value problem \n",
    "\n",
    "\\begin{align}\n",
    "\\frac{dx}{dt} &= -x(t) + u(t)\\,,\\hspace{4em} &x(0)&=1\\,,\n",
    "\\\\\n",
    "\\frac{dy}{dt} &= 6x(t)-y(t)\\,, &y(0)&=0\\,,\n",
    "\\end{align}\n",
    "\n",
    "for $t\\in[0,20]$."
   ]
  },
  {
   "cell_type": "code",
   "execution_count": null,
   "metadata": {},
   "outputs": [],
   "source": []
  },
  {
   "cell_type": "code",
   "execution_count": null,
   "metadata": {},
   "outputs": [],
   "source": []
  },
  {
   "cell_type": "markdown",
   "metadata": {},
   "source": [
    "### 2.3 The Pendulum Equation (Second order differential equations) <a name=\"Pend\"></a> <span class = \"ToTOC\"><a href=\"#TableOfContents\" style=\"text-decoration:none\">&#x2BA5;</a></span>\n",
    "\n",
    "The dynamics of pendulum motion are, in general, complicated and difficult to compute analytically without simplifying assumptions. \n",
    "\n",
    "<center> 45 Degree Start </center> | <center> 170 Degree Start </center> | <center> 190 Degree Start </center>\n",
    "- | - | -\n",
    "![45 Degree Start](https://upload.wikimedia.org/wikipedia/commons/c/c1/Pendulum_45deg.gif) | ![170 Degree Start](https://upload.wikimedia.org/wikipedia/commons/5/55/Pendulum_170deg.gif) | ![190 Degree Start](https://upload.wikimedia.org/wikipedia/commons/b/b7/Pendulum_190deg.gif)\n",
    "\n",
    "However, numerical approximations in the short time range do a fairly good job of predicting the various oscillatory patterns traced out by pendulums given different initial starting conditions. With a bit of highschool trigonometry, we can write a second order differential equation relating the force on the pendulum to it's angle from the bottom of it's arc.\n",
    "\n",
    "<img src=\"https://upload.wikimedia.org/wikipedia/commons/2/24/Oscillating_pendulum.gif\" alt=\"drawing\" width=\"200px\"/>\n",
    "\n",
    "The second order differential equation for the angle $\\theta(t)$ of a pendulum being acted on by a constant gravitational force is\n",
    "\n",
    "$$\n",
    "\\theta''(t) + b\\theta'(t) + c\\sin(\\theta(t)) = 0\\,,\n",
    "$$\n",
    "\n",
    "where $b$ and $c$ are positive constants. To solve this with `odeint` we need to split it into a system of first order differential equations. Letting $\\omega(t) = \\theta'(t)$, we can rewrite the pendulum equation as\n",
    "\\begin{align}\n",
    "\\theta'(t) &= \\omega(t)\n",
    "\\\\\n",
    "\\omega'(t) &= - b\\omega(t) - c\\sin(\\theta(t)) \n",
    "\\end{align}\n",
    "\n",
    "Solve the pendulum equation numerically. "
   ]
  },
  {
   "cell_type": "code",
   "execution_count": null,
   "metadata": {},
   "outputs": [],
   "source": []
  },
  {
   "cell_type": "code",
   "execution_count": null,
   "metadata": {},
   "outputs": [],
   "source": []
  }
 ],
 "metadata": {
  "kernelspec": {
   "display_name": "Python 3",
   "language": "python",
   "name": "python3"
  },
  "language_info": {
   "codemirror_mode": {
    "name": "ipython",
    "version": 3
   },
   "file_extension": ".py",
   "mimetype": "text/x-python",
   "name": "python",
   "nbconvert_exporter": "python",
   "pygments_lexer": "ipython3",
   "version": "3.5.4"
  }
 },
 "nbformat": 4,
 "nbformat_minor": 2
}
